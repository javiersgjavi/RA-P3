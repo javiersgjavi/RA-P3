{
 "cells": [
  {
   "cell_type": "code",
   "execution_count": 1,
   "metadata": {
    "collapsed": true
   },
   "outputs": [
    {
     "name": "stdout",
     "output_type": "stream",
     "text": [
      "pygame 2.1.2 (SDL 2.0.16, Python 3.8.10)\n",
      "Hello from the pygame community. https://www.pygame.org/contribute.html\n"
     ]
    }
   ],
   "source": [
    "from objects.Simulation import Simulation"
   ]
  },
  {
   "cell_type": "markdown",
   "source": [
    "## Variables for GUI"
   ],
   "metadata": {
    "collapsed": false
   }
  },
  {
   "cell_type": "code",
   "execution_count": 2,
   "outputs": [],
   "source": [
    "fps = 60\n",
    "colors = {\n",
    "    'white': (255, 255, 255),\n",
    "    'black': (0, 0, 0),\n",
    "    'red': (255, 0, 0),\n",
    "    'green': (0, 150, 0),\n",
    "    'blue': (0, 0, 255),\n",
    "}"
   ],
   "metadata": {
    "collapsed": false,
    "pycharm": {
     "name": "#%%\n"
    }
   }
  },
  {
   "cell_type": "markdown",
   "source": [
    "# Test 1: First maze"
   ],
   "metadata": {
    "collapsed": false
   }
  },
  {
   "cell_type": "code",
   "execution_count": 3,
   "outputs": [
    {
     "name": "stdout",
     "output_type": "stream",
     "text": [
      "Generated graph with 232 nodes and 838 edges\n"
     ]
    },
    {
     "ename": "SystemExit",
     "evalue": "",
     "output_type": "error",
     "traceback": [
      "An exception has occurred, use %tb to see the full traceback.\n",
      "\u001B[0;31mSystemExit\u001B[0m\n"
     ]
    },
    {
     "name": "stderr",
     "output_type": "stream",
     "text": [
      "/home/javier/.local/lib/python3.8/site-packages/IPython/core/interactiveshell.py:3449: UserWarning: To exit: use 'exit', 'quit', or Ctrl-D.\n",
      "  warn(\"To exit: use 'exit', 'quit', or Ctrl-D.\", stacklevel=1)\n"
     ]
    }
   ],
   "source": [
    "path = './boards/maze_1.png'\n",
    "pixel_size = 4\n",
    "size_node = pixel_size\n",
    "start_point = (5, 10)\n",
    "end_point = (80, 155)\n",
    "num_nodes = 230\n",
    "distance = None\n",
    "\n",
    "simulation = Simulation(\n",
    "    path=path,\n",
    "    pixel_size=pixel_size,\n",
    "    size_node=size_node,\n",
    "    colors=colors,\n",
    "    num_nodes=num_nodes,\n",
    "    distance=distance,\n",
    "    fps=fps,\n",
    "    start_point=start_point,\n",
    "    end_point=end_point,\n",
    ")\n",
    "\n",
    "simulation.run()"
   ],
   "metadata": {
    "collapsed": false,
    "pycharm": {
     "name": "#%%\n"
    }
   }
  },
  {
   "cell_type": "code",
   "execution_count": 47,
   "outputs": [
    {
     "ename": "SystemExit",
     "evalue": "",
     "output_type": "error",
     "traceback": [
      "An exception has occurred, use %tb to see the full traceback.\n",
      "\u001B[0;31mSystemExit\u001B[0m\n"
     ]
    }
   ],
   "source": [
    "path = './boards/maze_2.png'\n",
    "pixel_size = 1\n",
    "size_node = pixel_size*2\n",
    "start_point = (90, 50)\n",
    "end_point = (50, 50)\n",
    "num_nodes = 600\n",
    "distance = None\n",
    "\n",
    "simulation = Simulation(\n",
    "    path=path,\n",
    "    pixel_size=pixel_size,\n",
    "    size_node=size_node,\n",
    "    colors=colors,\n",
    "    num_nodes=num_nodes,\n",
    "    distance=distance,\n",
    "    fps=fps,\n",
    "    start_point=start_point,\n",
    "    end_point=end_point,\n",
    ")\n",
    "\n",
    "simulation.run()"
   ],
   "metadata": {
    "collapsed": false,
    "pycharm": {
     "name": "#%%\n"
    }
   }
  },
  {
   "cell_type": "code",
   "execution_count": 46,
   "outputs": [
    {
     "ename": "SystemExit",
     "evalue": "",
     "output_type": "error",
     "traceback": [
      "An exception has occurred, use %tb to see the full traceback.\n",
      "\u001B[0;31mSystemExit\u001B[0m\n"
     ]
    }
   ],
   "source": [
    "path = './boards/maze_3.png'\n",
    "pixel_size = 5\n",
    "size_node = pixel_size\n",
    "start_point = (41, 3)\n",
    "end_point = (42, 70)\n",
    "num_nodes = 400\n",
    "distance = None\n",
    "\n",
    "simulation = Simulation(\n",
    "    path=path,\n",
    "    pixel_size=pixel_size,\n",
    "    size_node=size_node,\n",
    "    colors=colors,\n",
    "    num_nodes=num_nodes,\n",
    "    distance=distance,\n",
    "    fps=fps,\n",
    "    start_point=start_point,\n",
    "    end_point=end_point,\n",
    ")\n",
    "\n",
    "simulation.run()"
   ],
   "metadata": {
    "collapsed": false,
    "pycharm": {
     "name": "#%%\n"
    }
   }
  },
  {
   "cell_type": "code",
   "execution_count": null,
   "outputs": [],
   "source": [],
   "metadata": {
    "collapsed": false,
    "pycharm": {
     "name": "#%%\n"
    }
   }
  }
 ],
 "metadata": {
  "kernelspec": {
   "display_name": "Python 3",
   "language": "python",
   "name": "python3"
  },
  "language_info": {
   "codemirror_mode": {
    "name": "ipython",
    "version": 2
   },
   "file_extension": ".py",
   "mimetype": "text/x-python",
   "name": "python",
   "nbconvert_exporter": "python",
   "pygments_lexer": "ipython2",
   "version": "2.7.6"
  }
 },
 "nbformat": 4,
 "nbformat_minor": 0
}