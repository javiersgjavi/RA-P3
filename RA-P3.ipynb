{
 "cells": [
  {
   "cell_type": "code",
   "execution_count": 1,
   "metadata": {
    "collapsed": true
   },
   "outputs": [
    {
     "name": "stdout",
     "output_type": "stream",
     "text": [
      "pygame 2.1.2 (SDL 2.0.16, Python 3.8.10)\n",
      "Hello from the pygame community. https://www.pygame.org/contribute.html\n"
     ]
    }
   ],
   "source": [
    "from objects.Simulation import Simulation"
   ]
  },
  {
   "cell_type": "markdown",
   "source": [
    "## Variables for GUI"
   ],
   "metadata": {
    "collapsed": false
   }
  },
  {
   "cell_type": "code",
   "execution_count": 2,
   "outputs": [],
   "source": [
    "gui = False\n",
    "fps = 60\n",
    "colors = {\n",
    "    'white': (255, 255, 255),\n",
    "    'black': (0, 0, 0),\n",
    "    'red': (255, 0, 0),\n",
    "    'green': (0, 150, 0),\n",
    "    'blue': (0, 0, 255),\n",
    "}"
   ],
   "metadata": {
    "collapsed": false,
    "pycharm": {
     "name": "#%%\n"
    }
   }
  },
  {
   "cell_type": "markdown",
   "source": [
    "# Test 1: First maze"
   ],
   "metadata": {
    "collapsed": false
   }
  },
  {
   "cell_type": "code",
   "execution_count": 10,
   "outputs": [
    {
     "name": "stdout",
     "output_type": "stream",
     "text": [
      "------------------------- Iteration 1062: adding start and end nodes  -------------------------\n",
      "Generated graph in 0.57 seconds with 232 nodes and 830 edges\n"
     ]
    }
   ],
   "source": [
    "path = './boards/maze_1.png'\n",
    "pixel_size = 4\n",
    "size_node = pixel_size\n",
    "start_point = (5, 10)\n",
    "end_point = (80, 155)\n",
    "num_nodes = 230\n",
    "distance = None\n",
    "\n",
    "simulation = Simulation(\n",
    "    path=path,\n",
    "    pixel_size=pixel_size,\n",
    "    size_node=size_node,\n",
    "    colors=colors,\n",
    "    num_nodes=num_nodes,\n",
    "    distance=distance,\n",
    "    fps=fps,\n",
    "    start_point=start_point,\n",
    "    end_point=end_point,\n",
    "    gui=gui\n",
    ")\n",
    "\n",
    "simulation.run()"
   ],
   "metadata": {
    "collapsed": false,
    "pycharm": {
     "name": "#%%\n"
    }
   }
  },
  {
   "cell_type": "markdown",
   "source": [
    "# Test 2: Second maze"
   ],
   "metadata": {
    "collapsed": false
   }
  },
  {
   "cell_type": "code",
   "execution_count": 6,
   "outputs": [
    {
     "name": "stdout",
     "output_type": "stream",
     "text": [
      "------------------------- Iteration 11633: adding start and end nodes  -------------------------\n",
      "Generated graph in 47.21 seconds with 2002 nodes and 9252 edges\n"
     ]
    }
   ],
   "source": [
    "path = './boards/maze_2.png'\n",
    "pixel_size = 2\n",
    "size_node = pixel_size*2\n",
    "start_point = (225, 215)\n",
    "end_point = (420, 215)\n",
    "num_nodes = 1000\n",
    "distance = None\n",
    "\n",
    "simulation = Simulation(\n",
    "    path=path,\n",
    "    pixel_size=pixel_size,\n",
    "    size_node=size_node,\n",
    "    colors=colors,\n",
    "    num_nodes=num_nodes,\n",
    "    distance=distance,\n",
    "    fps=fps,\n",
    "    start_point=start_point,\n",
    "    end_point=end_point,\n",
    "    gui=gui\n",
    ")\n",
    "\n",
    "simulation.run()"
   ],
   "metadata": {
    "collapsed": false,
    "pycharm": {
     "name": "#%%\n"
    }
   }
  },
  {
   "cell_type": "markdown",
   "source": [
    "# Test 3: Third maze"
   ],
   "metadata": {
    "collapsed": false
   }
  },
  {
   "cell_type": "code",
   "execution_count": 9,
   "outputs": [
    {
     "name": "stdout",
     "output_type": "stream",
     "text": [
      "------------------------- Iteration 2672: adding start and end nodes  -------------------------\n",
      "Generated graph in 2.56 seconds with 600 nodes and 2060 edges\n"
     ]
    }
   ],
   "source": [
    "path = './boards/maze_3.png'\n",
    "pixel_size = 5\n",
    "size_node = pixel_size\n",
    "start_point = (41, 3)\n",
    "end_point = (42, 70)\n",
    "num_nodes = 600\n",
    "distance = None\n",
    "\n",
    "simulation = Simulation(\n",
    "    path=path,\n",
    "    pixel_size=pixel_size,\n",
    "    size_node=size_node,\n",
    "    colors=colors,\n",
    "    num_nodes=num_nodes,\n",
    "    distance=distance,\n",
    "    fps=fps,\n",
    "    start_point=start_point,\n",
    "    end_point=end_point,\n",
    "    gui=gui\n",
    ")\n",
    "\n",
    "simulation.run()"
   ],
   "metadata": {
    "collapsed": false,
    "pycharm": {
     "name": "#%%\n"
    }
   }
  }
 ],
 "metadata": {
  "kernelspec": {
   "display_name": "Python 3",
   "language": "python",
   "name": "python3"
  },
  "language_info": {
   "codemirror_mode": {
    "name": "ipython",
    "version": 2
   },
   "file_extension": ".py",
   "mimetype": "text/x-python",
   "name": "python",
   "nbconvert_exporter": "python",
   "pygments_lexer": "ipython2",
   "version": "2.7.6"
  }
 },
 "nbformat": 4,
 "nbformat_minor": 0
}